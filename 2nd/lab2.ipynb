{
 "cells": [
  {
   "cell_type": "markdown",
   "metadata": {},
   "source": [
    "# Лабораторная работа №2. Шут Артём"
   ]
  },
  {
   "cell_type": "code",
   "execution_count": 1,
   "metadata": {},
   "outputs": [],
   "source": [
    "import numpy as np\n",
    "from numpy import linalg as la\n",
    "import copy\n",
    "import math\n",
    "from matplotlib import pyplot as plt\n",
    "from prettytable import PrettyTable as pt\n",
    "from math import sqrt"
   ]
  },
  {
   "cell_type": "markdown",
   "metadata": {},
   "source": [
    "#### Система согласно варианту:\n",
    "\\begin{cases}   \n",
    "    3.241x_1 + 0.197x_2 + 0.643x_3 + 0.236x_4 = 0.454; \\\\\n",
    "    0.257x_1 + 3.853x_2 + 0.342x_3 + 0.427x_4 = 0.371;\\\\\n",
    "    0.324x_1 + 0.317x_2 + 2.793x_3 + 0.238x_4 = 0.465; \\\\\n",
    "    0.438x_1 + 0.326x_2 + 0.483x_3 + 4.229x_4 = 0.822.\n",
    "\\end{cases}"
   ]
  },
  {
   "cell_type": "markdown",
   "metadata": {},
   "source": [
    "#### Матрица системы:"
   ]
  },
  {
   "cell_type": "code",
   "execution_count": 2,
   "metadata": {},
   "outputs": [],
   "source": [
    "A = np.array([[3.241, 0.197, 0.643, 0.236], \n",
    "              [0.257, 3.853, 0.342, 0.427], \n",
    "              [0.324, 0.317, 2.793, 0.238],\n",
    "              [0.438, 0.326, 0.483, 4.229]])\n",
    "b = np.array([0.454, 0.371, 0.465, 0.822])"
   ]
  },
  {
   "cell_type": "code",
   "execution_count": 3,
   "metadata": {},
   "outputs": [
    {
     "name": "stdout",
     "output_type": "stream",
     "text": [
      "[0.09783369 0.0596282  0.13437065 0.16429629]\n"
     ]
    }
   ],
   "source": [
    "print(la.solve(A, b))"
   ]
  },
  {
   "cell_type": "markdown",
   "metadata": {},
   "source": [
    "# Задание 1"
   ]
  },
  {
   "cell_type": "markdown",
   "metadata": {},
   "source": [
    "### Метод Гаусса"
   ]
  },
  {
   "cell_type": "code",
   "execution_count": 4,
   "metadata": {},
   "outputs": [],
   "source": [
    "def gauss(a, B):\n",
    "    A = copy.deepcopy(a)\n",
    "    b = copy.deepcopy(B)\n",
    "    \n",
    "    n = len(A)\n",
    "\n",
    "    for i in range(0, n):\n",
    "        for k in range(i + 1, n):\n",
    "            c = -A[k][i] / A[i][i]\n",
    "            for j in range(i, n):\n",
    "                if i == j:\n",
    "                    A[k][j] = 0\n",
    "                    \n",
    "                else:\n",
    "                    A[k][j] += c * A[i][j]\n",
    "                \n",
    "            b[k] += c * b[i]\n",
    "            \n",
    "    x = [0 for i in range(n)]\n",
    "    for i in range(n - 1, -1, -1):\n",
    "        x[i] = b[i] / A[i][i]\n",
    "        for k in range(i - 1, -1, -1):\n",
    "            b[k] -= A[k][i] * x[i]       \n",
    "            \n",
    "    return x"
   ]
  },
  {
   "cell_type": "markdown",
   "metadata": {},
   "source": [
    "### Метод Гаусса-Йордана"
   ]
  },
  {
   "cell_type": "code",
   "execution_count": 5,
   "metadata": {},
   "outputs": [],
   "source": [
    "def gauss_jordan(a, B):\n",
    "    A = copy.deepcopy(a)\n",
    "    b = copy.deepcopy(B)\n",
    "\n",
    "    n = len(A)\n",
    "\n",
    "    E = np.array([[0.0 for i in range(n)] for i in range(n)])\n",
    "    for i in range(n):\n",
    "        E[i][i] = 1.0\n",
    "    A = np.concatenate((A, E), 1)\n",
    "\n",
    "    for i in range(n):\n",
    "        for k in range(i + 1, n):\n",
    "            c = -A[k][i] / A[i][i]\n",
    "            for j in range(i, 2 * n):\n",
    "                if i == j:\n",
    "                    A[k][j] = 0\n",
    "                else:\n",
    "                    A[k][j] += c * A[i][j]\n",
    "\n",
    "    for i in range(n):\n",
    "        c = A[i][i]\n",
    "        for j in range(2 * n):\n",
    "            A[i][j] /= c\n",
    "            \n",
    "    for i in range(n - 1, 0, -1):\n",
    "        for k in range(i - 1, -1, -1):\n",
    "            c = -A[k][i]\n",
    "            for j in range(i, 2 * n):\n",
    "                if i == j:\n",
    "                    A[k][j] = 0\n",
    "                else:\n",
    "                    A[k][j] += c * A[i][j]                     \n",
    "\n",
    "    A = np.array([[A[i][j] for j in range(n, 2 * n)] for i in range(n)])\n",
    "    return A.dot(b)"
   ]
  },
  {
   "cell_type": "markdown",
   "metadata": {},
   "source": [
    "### Метод Якоби"
   ]
  },
  {
   "cell_type": "code",
   "execution_count": 6,
   "metadata": {},
   "outputs": [],
   "source": [
    "def jacobi(A, b, x, eps, n_iter):\n",
    "    D = np.diag(np.diag(A))\n",
    "    LU = A - D\n",
    "    for n in range(n_iter):\n",
    "        D_inv = np.diag(1 / np.diag(D))\n",
    "        x_prev = x\n",
    "        x = np.dot(D_inv, b - np.dot(LU, x))\n",
    "        if np.linalg.norm(x - x_prev) < eps:\n",
    "            break  \n",
    "    return (x, n + 1, la.norm(x - x_prev))"
   ]
  },
  {
   "cell_type": "markdown",
   "metadata": {},
   "source": [
    "### Метод Гаусса-Зейделя"
   ]
  },
  {
   "cell_type": "code",
   "execution_count": 7,
   "metadata": {},
   "outputs": [],
   "source": [
    "def gauss_seidel(A, b, x, eps, n_iter):\n",
    "    N = len(A)\n",
    "    for n in range(n_iter):\n",
    "        x_prev = copy.deepcopy(x)\n",
    "        for i in range(len(A)):\n",
    "            sn1 = sum(A[i][j] * x[j] for j in range(i))\n",
    "            sn = sum(A[i][j] * x_prev[j] for j in range(i + 1, N))\n",
    "            x[i] = (b[i] - sn1 - sn) / A[i][i]\n",
    "        if la.norm(x - x_prev) <= eps:\n",
    "            break\n",
    "    return (x, n + 1, la.norm(x - x_prev))"
   ]
  },
  {
   "cell_type": "markdown",
   "metadata": {},
   "source": [
    "### Сравнение"
   ]
  },
  {
   "cell_type": "code",
   "execution_count": 8,
   "metadata": {},
   "outputs": [
    {
     "name": "stdout",
     "output_type": "stream",
     "text": [
      "We will use standart Python func to solve SLE to the estimate the discrepancy\n",
      "\n",
      "Gauss method:\n",
      "Result: [0.0978336904561916, 0.0596282018593483, 0.13437065034901355, 0.16429629360498157]\n",
      "The discrepancy: 5.721958498152797e-17\n",
      "\n",
      "Gauss-Jordan method:\n",
      "Result: [0.0978336904561916, 0.0596282018593483, 0.13437065034901355, 0.16429629360498157]\n",
      "The discrepancy: 6.245004513516506e-17\n",
      "\n",
      "Jacobi method:\n",
      "The result: [0.09783369 0.0596282  0.13437065 0.16429629] \n",
      "The number of iterations: 32 \n",
      "The discrepancy: 5.238750013840908e-17\n",
      "\n",
      "Gauss-Seidel method:\n",
      "The result: [0.09783369 0.0596282  0.13437065 0.16429629] \n",
      "The number of iterations: 14 \n",
      "The discrepancy: 1.3877787807814457e-17\n"
     ]
    }
   ],
   "source": [
    "print(\"We will use standart Python func to solve SLE to the estimate the discrepancy\")\n",
    "\n",
    "print(\"\\nGauss method:\")\n",
    "print(\"Result:\", gauss(A, b))\n",
    "print(\"The discrepancy:\", la.norm(gauss(A, b) - la.solve(A, b)))\n",
    "\n",
    "print(\"\\nGauss-Jordan method:\")\n",
    "print(\"Result:\", gauss(A, b))\n",
    "print(\"The discrepancy:\", la.norm(gauss_jordan(A, b) - la.solve(A, b)))\n",
    "\n",
    "print(\"\\nJacobi method:\")\n",
    "X, N, Eps = jacobi(A,b,np.zeros(len(A)),1e-16,100)\n",
    "print(\"The result:\", X, \"\\nThe number of iterations:\", N,\n",
    "     \"\\nThe discrepancy:\", Eps)\n",
    "\n",
    "print(\"\\nGauss-Seidel method:\")\n",
    "X, N, Eps = gauss_seidel(A,b,np.zeros(len(A)),1e-16,100)\n",
    "print(\"The result:\", X, \"\\nThe number of iterations:\", N,\n",
    "     \"\\nThe discrepancy:\", Eps)"
   ]
  },
  {
   "cell_type": "markdown",
   "metadata": {},
   "source": [
    "# Задание 2"
   ]
  },
  {
   "cell_type": "markdown",
   "metadata": {},
   "source": [
    "### Метод сопряжённых градиентов"
   ]
  },
  {
   "cell_type": "code",
   "execution_count": 9,
   "metadata": {},
   "outputs": [],
   "source": [
    "def CG(A, b, x, eps = 1e-9, n_iter = 100):\n",
    "    d = r = b - A.dot(x)\n",
    "    norm_b = la.norm(b)\n",
    "    for n in range(n_iter):\n",
    "        alpha = r.dot(r)/d.dot(A.dot(d))\n",
    "        x = x + alpha * d\n",
    "        if la.norm(r)/norm_b < eps:\n",
    "            return x, n + 1, eps\n",
    "        r_last = r\n",
    "        r = r - alpha * A.dot(d)\n",
    "        d = r + r.dot(r)/r_last.dot(r_last)*d\n",
    "    print(\"Limit iterations\")\n",
    "    return x, n_iter, la.norm(r)/norm_b"
   ]
  },
  {
   "cell_type": "markdown",
   "metadata": {},
   "source": [
    "### Метод сопряжённых градиентов с переобуславливанием"
   ]
  },
  {
   "cell_type": "code",
   "execution_count": 10,
   "metadata": {},
   "outputs": [],
   "source": [
    "def PCG(A, M, b, x, eps = 1e-9, n_iter = 100):\n",
    "    r = b - A.dot(x)\n",
    "    d = M.dot(r)\n",
    "    norm_b = la.norm(b)\n",
    "    for n in range(n_iter):\n",
    "        alpha = r.dot(M.dot(r))/d.dot(A.dot(d))\n",
    "        x = x + alpha * d\n",
    "        if la.norm(r)/norm_b < eps:\n",
    "            return x, n + 1, eps\n",
    "        r_last = r\n",
    "        r = r - alpha * A.dot(d)\n",
    "        d = M.dot(r) + r.dot(M.dot(r))/r_last.dot(M.dot(r_last))*d\n",
    "    print(\"Limit iterations\")\n",
    "    return x, n_iter, la.norm(r)/norm_b"
   ]
  },
  {
   "cell_type": "markdown",
   "metadata": {},
   "source": [
    "### Сравнение"
   ]
  },
  {
   "cell_type": "code",
   "execution_count": 11,
   "metadata": {},
   "outputs": [
    {
     "name": "stdout",
     "output_type": "stream",
     "text": [
      "Conjugate Gradient method:\n",
      "The condition number of matrix A: 1.9383507261324149\n",
      "The result of : [0.09783369 0.0596282  0.13437065 0.16429629] \n",
      "The number of iterations: 21 \n",
      "The discrepancy: 1e-09\n",
      "\n",
      "Preconditioned Conjugate Gradient method (1):\n",
      "The condition number: 1.5586818493229424\n",
      "The result: [0.09783369 0.0596282  0.13437065 0.16429629] \n",
      "The number of iterations: 13 \n",
      "The discrepancy: 1e-09\n",
      "\n",
      "Preconditioned Conjugate Gradient method (2):\n",
      "The condition number: 2.7097301155073943\n",
      "The result: [0.09783369 0.0596282  0.13437065 0.16429629] \n",
      "The number of iterations: 33 \n",
      "The discrepancy: 1e-09\n"
     ]
    }
   ],
   "source": [
    "print(\"Conjugate Gradient method:\")\n",
    "print(\"The condition number of matrix A:\", la.cond(A))\n",
    "X, N, Eps = CG(A, b, np.zeros(len(b)))\n",
    "print(\"The result of :\", X, \"\\nThe number of iterations:\", N,\n",
    "     \"\\nThe discrepancy:\", Eps)\n",
    "\n",
    "M = np.zeros((4,4))\n",
    "for i in range(len(A)):\n",
    "    M[i][i] = A[i][i]\n",
    "M = la.inv(M)\n",
    "\n",
    "print(\"\\nPreconditioned Conjugate Gradient method (1):\")\n",
    "print(\"The condition number:\", la.cond(M.dot(A)))\n",
    "X, N, Eps = PCG(A, M, b, np.zeros(len(b)))\n",
    "print(\"The result:\", X, \"\\nThe number of iterations:\", N,\n",
    "     \"\\nThe discrepancy:\", Eps)\n",
    "\n",
    "M = np.zeros((4,4))\n",
    "for i in range(len(A)):\n",
    "    M[i][i] = 1/A[i][i]\n",
    "M = la.inv(M)\n",
    "\n",
    "print(\"\\nPreconditioned Conjugate Gradient method (2):\")\n",
    "print(\"The condition number:\", la.cond(M.dot(A)))\n",
    "X, N, Eps = PCG(A, M, b, np.zeros(len(b)))\n",
    "print(\"The result:\", X, \"\\nThe number of iterations:\", N,\n",
    "     \"\\nThe discrepancy:\", Eps)"
   ]
  },
  {
   "cell_type": "markdown",
   "metadata": {},
   "source": [
    "### Вывод"
   ]
  },
  {
   "cell_type": "markdown",
   "metadata": {},
   "source": [
    "Если число обусловленности велико, то переобуславливание целесобразно, - если мало, то нет. Как мы видим, при переобуславливании мы можем как уменьшить, так и увеличить число обусловленности матрицы, и это сказывается на точности метода, на количестве итераций до получения результата с заданной точностью. Более того, при больших числах обусловленности метод может и не сходиться в принципе при некоторых входных данных."
   ]
  },
  {
   "cell_type": "markdown",
   "metadata": {},
   "source": [
    "# Задание 3"
   ]
  },
  {
   "cell_type": "code",
   "execution_count": 13,
   "metadata": {},
   "outputs": [
    {
     "name": "stdout",
     "output_type": "stream",
     "text": [
      "524.0567775860644\n",
      "3.605234528942684e-15\n"
     ]
    }
   ],
   "source": [
    "n = 3\n",
    "H = np.zeros((n,n))\n",
    "for i in range(n):\n",
    "    for j in range(n):\n",
    "        H[i][j] = 1/(1 + i + j)\n",
    "        \n",
    "print(la.cond(H))\n",
    "print(la.norm(H - gauss_jordan(gauss_jordan(H, np.eye(len(H))), np.eye(len(H)))))"
   ]
  }
 ],
 "metadata": {
  "kernelspec": {
   "display_name": "Python 3",
   "language": "python",
   "name": "python3"
  },
  "language_info": {
   "codemirror_mode": {
    "name": "ipython",
    "version": 3
   },
   "file_extension": ".py",
   "mimetype": "text/x-python",
   "name": "python",
   "nbconvert_exporter": "python",
   "pygments_lexer": "ipython3",
   "version": "3.7.5"
  }
 },
 "nbformat": 4,
 "nbformat_minor": 4
}
