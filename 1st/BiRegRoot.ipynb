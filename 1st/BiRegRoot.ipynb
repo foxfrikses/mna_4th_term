{
 "cells": [
  {
   "cell_type": "markdown",
   "metadata": {},
   "source": [
    "# Лабораторная работа №1. Шут Артём (дополнение)"
   ]
  },
  {
   "cell_type": "markdown",
   "metadata": {},
   "source": [
    "### BiRegRoot"
   ]
  },
  {
   "cell_type": "markdown",
   "metadata": {},
   "source": [
    "Не знаю, почему здесь у меня не работает интерпретатор, но запустите вы - должно работать"
   ]
  },
  {
   "cell_type": "code",
   "execution_count": null,
   "metadata": {},
   "outputs": [],
   "source": [
    "function [ans] = func(x)\n",
    "    ans = 15^2 + (100 * (x - 1)^4 - 12.5^2) * x^2\n",
    "endfunction\n",
    "\n",
    "function[A, B] = my_bisection(Func, a, b)\n",
    "    m = (b + a) / 2;\n",
    "    if Func(m) * Func(a) > 0 then\n",
    "        A = m;\n",
    "        B = b;\n",
    "    elseif Func(m) * Func(b) > 0 then\n",
    "        A = a;\n",
    "        B = m;\n",
    "    else\n",
    "        A = a;\n",
    "        B = b;\n",
    "        disp(\"Error bi\")\n",
    "    end,\n",
    "endfunction\n",
    "\n",
    "function[A, B] = my_regularfalsi(Func, a, b)\n",
    "    c = a - (b - a) * Func(a) / (Func(b) - Func(a))\n",
    "    if Func(c) * Func(a) > 0 then\n",
    "        A = c\n",
    "        B = b\n",
    "    elseif Func(c) * Func(b) > 0 then\n",
    "        A = a\n",
    "        B = c\n",
    "    else\n",
    "        A = a\n",
    "        B = b\n",
    "        disp(\"Error RF\")\n",
    "    end\n",
    "endfunction\n",
    "\n",
    "function[ans, count] = my_BiRegRoot(Func, a, b, ErrMax)\n",
    "    err = 1\n",
    "    count = 1\n",
    "    ans = [a]\n",
    "    while err > ErrMax & count < 100\n",
    "        [bi_a,  bi_b]  = my_bisection(Func, a, b)\n",
    "        [reg_a, reg_b] = my_regularfalsi(Func, a, b)\n",
    "        bi_err  = abs((a + b) / (bi_a  + bi_b)  - 1)\n",
    "        reg_err = abs((a + b) / (reg_a + reg_b) - 1)\n",
    "        if (bi_err < reg_err) then\n",
    "            err = bi_err\n",
    "            a = bi_a\n",
    "            b = bi_b\n",
    "        else\n",
    "            err = reg_err\n",
    "            a = reg_a\n",
    "            b = reg_b\n",
    "        end,\n",
    "        ans = [ans, a]\n",
    "        count = count + 1\n",
    "    end,\n",
    "    if count >= 100 then \n",
    "        disp(\"Too many iterations\")\n",
    "    end,\n",
    "endfunction\n",
    "\n",
    "[ans, count] = my_BiRegRoot(func, 1.6, 2.3, 0.0001)\n",
    "plot2d(1:count,ans)"
   ]
  }
 ],
 "metadata": {
  "kernelspec": {
   "display_name": "Scilab",
   "language": "scilab",
   "name": "scilab"
  },
  "language_info": {
   "file_extension": ".sci",
   "help_links": [
    {
     "text": "MetaKernel Magics",
     "url": "https://metakernel.readthedocs.io/en/latest/source/README.html"
    }
   ],
   "mimetype": "text/x-octave",
   "name": "octave",
   "version": "0.9.10"
  }
 },
 "nbformat": 4,
 "nbformat_minor": 4
}
