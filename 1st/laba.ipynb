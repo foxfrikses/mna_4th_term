{
 "cells": [
  {
   "cell_type": "markdown",
   "metadata": {},
   "source": [
    "# Лабораторная работа №1. Шут Артём"
   ]
  },
  {
   "cell_type": "code",
   "execution_count": 1,
   "metadata": {},
   "outputs": [],
   "source": [
    "import numpy as np\n",
    "import math\n",
    "from matplotlib import pyplot as plt\n",
    "from prettytable import PrettyTable as pt"
   ]
  },
  {
   "cell_type": "markdown",
   "metadata": {},
   "source": [
    "## Задание 1"
   ]
  },
  {
   "cell_type": "markdown",
   "metadata": {},
   "source": [
    "### Метод Половинного деления"
   ]
  },
  {
   "cell_type": "code",
   "execution_count": 2,
   "metadata": {},
   "outputs": [],
   "source": [
    "def half_divide_method(f, a, b, n): # функция, левая и правая границы, кол-во итераций\n",
    "    mid = (a + b) / 2\n",
    "    if n == 0:\n",
    "        return mid\n",
    "    if f(mid) * f(a) < 0:\n",
    "        return half_divide_method(f, a, mid, n - 1)\n",
    "    if f(mid) * f(b) < 0:\n",
    "        return half_divide_method(f, mid, b, n - 1)"
   ]
  },
  {
   "cell_type": "markdown",
   "metadata": {},
   "source": [
    "### Метод Хорд"
   ]
  },
  {
   "cell_type": "code",
   "execution_count": 3,
   "metadata": {},
   "outputs": [],
   "source": [
    "def chord_method(f, a, b, n): \n",
    "    next = a - (b - a) * f(a) / (f(b) - f(a))\n",
    "    if n == 0:\n",
    "        return next\n",
    "    return chord_method(f, next, b, n - 1)"
   ]
  },
  {
   "cell_type": "markdown",
   "metadata": {},
   "source": [
    "### Метод Ньютона"
   ]
  },
  {
   "cell_type": "code",
   "execution_count": 4,
   "metadata": {},
   "outputs": [],
   "source": [
    "def newtons_method(f, d, x, n): # f - функция, d - дифференциал функции\n",
    "    next = x - f(x) / d(x)\n",
    "    if n == 0:\n",
    "        return next\n",
    "    return newtons_method(f, d, next, n - 1)"
   ]
  },
  {
   "cell_type": "markdown",
   "metadata": {},
   "source": [
    "### Определение функции и её дифференциала в точке"
   ]
  },
  {
   "cell_type": "code",
   "execution_count": 5,
   "metadata": {},
   "outputs": [],
   "source": [
    "def function(x):\n",
    "    return x - 2 * math.exp(-x)\n",
    "\n",
    "def diff(x):\n",
    "    return 1 + 2 * math.exp(-x)"
   ]
  },
  {
   "cell_type": "markdown",
   "metadata": {},
   "source": [
    "### Вычисления"
   ]
  },
  {
   "cell_type": "code",
   "execution_count": 6,
   "metadata": {},
   "outputs": [
    {
     "name": "stdout",
     "output_type": "stream",
     "text": [
      "0.8125\n",
      "-0.07499462016215974\n",
      "0.8526043633269464\n",
      "-2.1095379446611773e-06\n",
      "0.8526055020137255\n",
      "1.1102230246251565e-16\n"
     ]
    }
   ],
   "source": [
    "print(half_divide_method(function, 0, 1, 3))\n",
    "print(function(0.8125))\n",
    "print(chord_method(function, 0, 1, 3))\n",
    "print(function(0.8526043633269464))\n",
    "print(newtons_method(function, diff, 1, 3))\n",
    "print(function(0.8526055020137255))"
   ]
  },
  {
   "cell_type": "markdown",
   "metadata": {},
   "source": [
    "### Метод Стеффенсена (Scilab)"
   ]
  },
  {
   "cell_type": "markdown",
   "metadata": {},
   "source": [
    "```javascript\n",
    "function [out] = Fun(x)\n",
    "    out = x - 2 * exp(-x)\n",
    "endfunction\n",
    "\n",
    "function [Xs]=SteffensenRoot(Fun,Xest)\n",
    "    count = 0;\n",
    "    E = 1.0;\n",
    "    while E > 1e-6 & count < 100\n",
    "        Xs = Xest - Fun(Xest) * Fun(Xest) / (Fun(Xest + Fun(Xest)) - Fun(Xest))\n",
    "        count = count + 1\n",
    "        E = abs((Xs - Xest) / Xs)\n",
    "        Xest = Xs\n",
    "    end\n",
    "    if count >=100 then Xs = -1\n",
    "    end\n",
    "endfunction\n",
    "\n",
    "Xs = SteffensenRoot(Fun,1)\n",
    "```"
   ]
  },
  {
   "cell_type": "markdown",
   "metadata": {},
   "source": [
    "Результат: 0.8526055"
   ]
  },
  {
   "cell_type": "markdown",
   "metadata": {},
   "source": [
    "### Метод Стеффенсена (Python)"
   ]
  },
  {
   "cell_type": "code",
   "execution_count": 7,
   "metadata": {},
   "outputs": [
    {
     "name": "stdout",
     "output_type": "stream",
     "text": [
      "Результат:  0.8526055020137254\n"
     ]
    }
   ],
   "source": [
    "def steffensens_method(f, x):\n",
    "    E = 0.000001\n",
    "    for i in range(100):\n",
    "        prev = x\n",
    "        x = prev - f(prev) * f(prev) / (f(prev + f(prev)) - f(prev))\n",
    "        if np.abs(x - prev) < E:\n",
    "            return x\n",
    "    return None\n",
    "\n",
    "print('Результат: ', steffensens_method(function,100))"
   ]
  },
  {
   "cell_type": "markdown",
   "metadata": {},
   "source": [
    "Результаты, полученные применением этого метода в Python и в Scilab совпадают с точностью до $10^{-6}$"
   ]
  },
  {
   "cell_type": "markdown",
   "metadata": {},
   "source": [
    "## Задание 2"
   ]
  },
  {
   "cell_type": "markdown",
   "metadata": {},
   "source": [
    "Для повышения читаемости и упрощения описания решения обозначим $T_h$ как $T$, $T_c$ как $t$, $J_h$ как $J$, $J_c$ как $j$.\n",
    "\n",
    "$$\\begin{equation}\n",
    "    \\begin{matrix} \n",
    "    t = (\\frac{j - 17.41*t + 5188.18}{5.67*10^{-8}})^{\\frac{1}{4}}, \\\\\n",
    "    T = (\\frac{2250 + J - 1.865 * T}{5.67*10^{-8}})^{\\frac{1}{4}}, \\\\\n",
    "    j = 2352.71 + 0.71*J - 7.46*t, \\\\\n",
    "    J = 11093 + 0.71*j - 7.46*T. \\\\\n",
    "    \\end{matrix} \n",
    "\\end{equation}$$"
   ]
  },
  {
   "cell_type": "markdown",
   "metadata": {},
   "source": [
    "#### Якобиан имеет вид:\n",
    "$$\\begin{equation}\n",
    "    \\begin{pmatrix}  \n",
    "    2.79*10^2*(j-17.41*t + 5188.8)^{-0.75} & 0 & 0.16*10^2*(j-17.41*t+5188.8)^{-0.75} & 0 \\\\\n",
    "    0 & -0.29*10^2*(2250+J-1.865*t)^{-0.75} & 0 & 0.16*10^2*(2250+J-1.865*t)^{-0.75} \\\\\n",
    "    -7.46 & 0 & 0 & 0.71 \\\\\n",
    "    0 & -7.46 & 0.71 & 0\n",
    "    \\end{pmatrix} \n",
    "\\end{equation}$$"
   ]
  },
  {
   "cell_type": "markdown",
   "metadata": {},
   "source": [
    "Достаточным условием сходимости является то, что сумма модулей производных по строкам Якобиана должна быть меньше 1 (в каждой строке). В 3-4 строках она не соблюдатся, но если мы введём подстановку $J_c = J * c$, $j_c = j * c$, где $c < \\frac{1 - 0.71}{7.46}$, то соблюдётся, и для получения области сходимости надо будет только проконтролировать соблюдение условия, что сумма модулей производных Якобиана в 1 и 2 строках должна быть меньше 1."
   ]
  },
  {
   "cell_type": "code",
   "execution_count": 8,
   "metadata": {},
   "outputs": [
    {
     "name": "stdout",
     "output_type": "stream",
     "text": [
      "Th =  671.1239779386548 \n",
      "Tc =  481.0272546990047 \n",
      "Jh =  10504.194933130066 \n",
      "Jc =  6222.2250824538205\n"
     ]
    }
   ],
   "source": [
    "T_hist = [298]\n",
    "t_hist = [298]\n",
    "J_hist = [5000]\n",
    "j_hist = [3000]\n",
    "for i in range(100):\n",
    "    T_hist.append(((2250 + J_hist[i] - 1.865 * T_hist[i]) / 5.67e-8) ** (1 / 4))\n",
    "    t_hist.append(((j_hist[i] - 17.41 * t_hist[i] + 5188.18) / 5.67e-8) ** (1 / 4))\n",
    "    J_hist.append(11093 + 0.71 * j_hist[i] - 7.46 * T_hist[i])\n",
    "    j_hist.append(2352.71 + 0.71 * J_hist[i] - 7.46 * t_hist[i])\n",
    "print('Th = ', T_hist[100], '\\nTc = ',t_hist[100], '\\nJh = ', J_hist[100], '\\nJc = ', j_hist[100])    "
   ]
  },
  {
   "cell_type": "code",
   "execution_count": 9,
   "metadata": {},
   "outputs": [
    {
     "data": {
      "text/plain": [
       "Text(0.5, 1.0, 'Jc')"
      ]
     },
     "execution_count": 9,
     "metadata": {},
     "output_type": "execute_result"
    },
    {
     "data": {
      "image/png": "[encoded data removed]",
      "text/plain": [
       "<Figure size 432x288 with 4 Axes>"
      ]
     },
     "metadata": {
      "needs_background": "light"
     },
     "output_type": "display_data"
    }
   ],
   "source": [
    "import pylab\n",
    "x = range(101)\n",
    "\n",
    "pylab.subplot(2, 2, 1)\n",
    "pylab.plot(x, T_hist)\n",
    "plt.plot([0, len(x)], [671]*2)\n",
    "pylab.title(\"Th\")\n",
    "\n",
    "pylab.subplot(2, 2, 2)\n",
    "pylab.plot(x, t_hist)\n",
    "plt.plot([0, len(x)], [481]*2)\n",
    "pylab.title(\"Tc\")\n",
    "\n",
    "pylab.subplot(2, 2, 3)\n",
    "pylab.plot(x, J_hist)\n",
    "plt.plot([0, len(x)], [10504]*2)\n",
    "pylab.title(\"Jh\")\n",
    "\n",
    "pylab.subplot(2, 2, 4)\n",
    "pylab.plot(x, j_hist)\n",
    "plt.plot([0, len(x)], [6222]*2)\n",
    "pylab.title(\"Jc\")"
   ]
  },
  {
   "cell_type": "markdown",
   "metadata": {},
   "source": [
    "## Задание 3"
   ]
  },
  {
   "cell_type": "markdown",
   "metadata": {},
   "source": [
    "Решим задачу из механики. Тело бросают с высоты с начальной скоростью паралленьно земле, тело падает на расстоянии s = 15 м, за секунду до падения тело имело скорость u = 12.5 м/с. Какое было полное время полёта тела? (Ускорение свободного падения принять равным g = 10 м/с^2)."
   ]
  },
  {
   "cell_type": "markdown",
   "metadata": {},
   "source": [
    "Мы, конечно, можем запариться, найти промежуток, где выполняются условия Фурье и где можно использовать метод Ньютона, но это очень сложно, и мы можем просто обратить внимание вот на что: наша функция раскладываетс яв полином, а. значит, она и её первые 2 производные непрерывны и, мы можем определить, точно больше нуля на $x \\in [2.2, Inf)$. Тсть, т.е. если решение есть, то мы точно получим его, применив метод Ньютона к нему, взяв начальную точку >2.2."
   ]
  },
  {
   "cell_type": "code",
   "execution_count": 10,
   "metadata": {},
   "outputs": [
    {
     "name": "stdout",
     "output_type": "stream",
     "text": [
      "Ответ:  2.000000000082732 с\n"
     ]
    },
    {
     "data": {
      "image/png": "[encoded data removed]",
      "text/plain": [
       "<Figure size 432x288 with 1 Axes>"
      ]
     },
     "metadata": {
      "needs_background": "light"
     },
     "output_type": "display_data"
    },
    {
     "name": "stdout",
     "output_type": "stream",
     "text": [
      "\n"
     ]
    }
   ],
   "source": [
    "def newtons_method(f, d, x, n, h): # f - функция, d - дифференциал функции\n",
    "    h.append(x)\n",
    "    next = x - f(x) / d(x)\n",
    "    if n == 0:\n",
    "        h.append(next)\n",
    "        return next\n",
    "    return newtons_method(f, d, next, n - 1, h)\n",
    "\n",
    "def function(x):\n",
    "    return 15**2 + (100 * (x - 1)**4 - 12.5**2) * x**2\n",
    "def diff(x):\n",
    "    return (400 * (x - 1)**3) * x**2 + 2 * x * (100 * (x - 1)**4 - 12.5**2)\n",
    "\n",
    "hist = []\n",
    "print('Ответ: ', newtons_method(function, diff, 2.5, 5, hist), 'с')\n",
    "plt.plot(range(len(hist)),hist)\n",
    "plt.show()\n",
    "\n",
    "\n",
    "print()"
   ]
  },
  {
   "cell_type": "markdown",
   "metadata": {},
   "source": [
    "## Задание 4"
   ]
  },
  {
   "cell_type": "markdown",
   "metadata": {},
   "source": [
    "$$F(x) = 2 * x^3 - 4 * x^2 - 4 * x - 20 = 0, x \\in [3,4] $$\n",
    "Решать будем методом Ньютона (касательных), точкой начального приближения выберем 3.5, т.к. выполняются условия Фурье на [3,4] и F(x) = 0 определена и непрерывна на [3,4]. Кроме того, область начального приближения достаточна мала, а метод Ньютона имеет квадратичную сходимость."
   ]
  },
  {
   "cell_type": "code",
   "execution_count": 11,
   "metadata": {},
   "outputs": [
    {
     "name": "stdout",
     "output_type": "stream",
     "text": [
      "Решение после 4-х итераций = 3.4318475224198943\n"
     ]
    },
    {
     "data": {
      "image/png": "[encoded data removed]",
      "text/plain": [
       "<Figure size 432x288 with 1 Axes>"
      ]
     },
     "metadata": {
      "needs_background": "light"
     },
     "output_type": "display_data"
    }
   ],
   "source": [
    "def newtons_method(f, d, x, n, h): # f - функция, d - дифференциал функции\n",
    "    h.append(x)\n",
    "    next = x - f(x) / d(x)\n",
    "    if n == 0:\n",
    "        h.append(next)\n",
    "        return next\n",
    "    return newtons_method(f, d, next, n - 1, h)\n",
    "\n",
    "def function(x):\n",
    "    return 2 * x**3 - 4 * x**2 - 4 * x - 20\n",
    "def deff(x):\n",
    "    return 6 * x**2 - 8 * x - 4\n",
    "\n",
    "hist = []\n",
    "print('Решение после 4-х итераций =', newtons_method(function, deff, 3.5, 4, hist))\n",
    "plt.plot(range(len(hist)),hist)\n",
    "plt.show()"
   ]
  },
  {
   "cell_type": "markdown",
   "metadata": {},
   "source": [
    "## Задание 5. Вариант 24."
   ]
  },
  {
   "cell_type": "markdown",
   "metadata": {},
   "source": [
    "Решим уравнение:\n",
    "$$ cos(\\frac{x}{2}) ln(x - 1) = 0. $$\n",
    "На самом деле, мы не можем его решить численными методами в том смысле, что найти все его корни (их бесконечно много), но если мы ограничим промежуток, подходящий под требования метода ньютона, то можно будет найти и решение на этом промежутке"
   ]
  },
  {
   "cell_type": "code",
   "execution_count": 12,
   "metadata": {},
   "outputs": [],
   "source": [
    "def MyFunction(x):\n",
    "    return math.cos(x / 2) * math.log(x - 1)\n",
    "\n",
    "def MyDerivative(x):\n",
    "    return math.cos(x / 2) / (x - 1) - math.sin(x / 2) * math.log(x - 1) / 2\n",
    "\n",
    "def MyNewton(f, d, x):\n",
    "    limit = 100\n",
    "    hist = [x]\n",
    "    E = 1e-16\n",
    "    e = 1.0\n",
    "    while e > E:\n",
    "        if limit == 0:\n",
    "            return ['Too many iterations']\n",
    "        hist.append(hist[-1] - f(hist[-1]) / d(hist[-1]))\n",
    "        e = abs(hist[-1] - hist[-2])\n",
    "        limit -= 1\n",
    "    return hist\n",
    "\n",
    "def MyIteration(f, d, x):\n",
    "    hist = [x]\n",
    "    limit = 100\n",
    "    E = 1e-16\n",
    "    e = 1\n",
    "    C = d(x)\n",
    "    if C == 0:\n",
    "        return ['d(x) = 0']\n",
    "    while e > E:\n",
    "        if limit == 0:\n",
    "            return ['Too many iterations']\n",
    "        hist.append(hist[-1] - f(hist[-1]) / C)\n",
    "        e = abs(hist[-2] - hist[-1])\n",
    "        limit -= 1\n",
    "    return hist"
   ]
  },
  {
   "cell_type": "code",
   "execution_count": 13,
   "metadata": {},
   "outputs": [
    {
     "name": "stdout",
     "output_type": "stream",
     "text": [
      "+----+-------------------+-------------------+\n",
      "| n  |       Newton      |     Iteration     |\n",
      "+----+-------------------+-------------------+\n",
      "| 0  |         90        |         90        |\n",
      "| 1  | 91.23856741100367 | 91.23856741100367 |\n",
      "| 2  | 91.10603653347306 | 91.08214249659416 |\n",
      "| 3  | 91.10618695416008 | 91.11056330021454 |\n",
      "| 4  |  91.106186954104  | 91.10538992967547 |\n",
      "| 5  |  91.106186954104  | 91.10633209768042 |\n",
      "| 6  |                   | 91.10616052206728 |\n",
      "| 7  |                   |  91.1061917676181 |\n",
      "| 8  |                   |  91.1061860775189 |\n",
      "| 9  |                   | 91.10618711373819 |\n",
      "| 10 |                   | 91.10618692503316 |\n",
      "| 11 |                   | 91.10618695939807 |\n",
      "| 12 |                   | 91.10618695313991 |\n",
      "| 13 |                   | 91.10618695427958 |\n",
      "| 14 |                   | 91.10618695407203 |\n",
      "| 15 |                   | 91.10618695410983 |\n",
      "| 16 |                   | 91.10618695410294 |\n",
      "| 17 |                   |  91.1061869541042 |\n",
      "| 18 |                   | 91.10618695410396 |\n",
      "| 19 |                   | 91.10618695410402 |\n",
      "| 20 |                   |  91.106186954104  |\n",
      "| 21 |                   |  91.106186954104  |\n",
      "+----+-------------------+-------------------+\n"
     ]
    }
   ],
   "source": [
    "newton = MyNewton(MyFunction, MyDerivative, 90)\n",
    "iterator = MyIteration(MyFunction, MyDerivative, 90)\n",
    "table = pt()\n",
    "n = max(len(newton),len(iterator))\n",
    "table.add_column(\"n\", range(n))\n",
    "table.add_column(\"Newton\", newton + (n - len(newton))*[''])\n",
    "table.add_column(\"Iteration\", iterator)\n",
    "\n",
    "print(table)\n",
    "with open(\"output.txt\", \"w\") as file:\n",
    "    file.write(table.get_string())"
   ]
  },
  {
   "cell_type": "code",
   "execution_count": 14,
   "metadata": {},
   "outputs": [
    {
     "name": "stdout",
     "output_type": "stream",
     "text": [
      "+----+--------------------+--------------------+\n",
      "| n  |       Newton       |     Iteration      |\n",
      "+----+--------------------+--------------------+\n",
      "| 0  |         3          |         3          |\n",
      "| 1  | 3.1579937959633964 | 3.1579937959633964 |\n",
      "| 2  | 3.141752765515382  | 3.1376686652805263 |\n",
      "| 3  | 3.1415926693037304 | 3.1424716953050584 |\n",
      "| 4  | 3.1415926535897936 | 3.1413925536982874 |\n",
      "| 5  | 3.141592653589793  | 3.141638040734686  |\n",
      "| 6  | 3.141592653589793  | 3.141582350384359  |\n",
      "| 7  |                    | 3.1415949920592077 |\n",
      "| 8  |                    | 3.1415921228162995 |\n",
      "| 9  |                    | 3.141592774060825  |\n",
      "| 10 |                    | 3.141592626246113  |\n",
      "| 11 |                    | 3.1415926597960695 |\n",
      "| 12 |                    | 3.1415926521811364 |\n",
      "| 13 |                    | 3.1415926539095205 |\n",
      "| 14 |                    | 3.1415926535172236 |\n",
      "| 15 |                    | 3.1415926536062644 |\n",
      "| 16 |                    | 3.1415926535860548 |\n",
      "| 17 |                    | 3.1415926535906418 |\n",
      "| 18 |                    | 3.141592653589601  |\n",
      "| 19 |                    | 3.141592653589837  |\n",
      "| 20 |                    | 3.1415926535897833 |\n",
      "| 21 |                    | 3.1415926535897953 |\n",
      "| 22 |                    | 3.1415926535897927 |\n",
      "| 23 |                    | 3.1415926535897936 |\n",
      "| 24 |                    | 3.141592653589793  |\n",
      "| 25 |                    | 3.141592653589793  |\n",
      "+----+--------------------+--------------------+\n"
     ]
    }
   ],
   "source": [
    "newton = MyNewton(MyFunction, MyDerivative, 3)\n",
    "iterator = MyIteration(MyFunction, MyDerivative, 3)\n",
    "table = pt()\n",
    "n = max(len(newton),len(iterator))\n",
    "table.add_column(\"n\", range(n))\n",
    "table.add_column(\"Newton\", newton + (n - len(newton))*[''])\n",
    "table.add_column(\"Iteration\", iterator)\n",
    "\n",
    "print(table)\n",
    "with open(\"output.txt\", \"w\") as file:\n",
    "    file.write(table.get_string())"
   ]
  },
  {
   "cell_type": "code",
   "execution_count": 15,
   "metadata": {},
   "outputs": [
    {
     "name": "stdout",
     "output_type": "stream",
     "text": [
      "+----+--------------------+--------------------+\n",
      "| n  |       Newton       |     Iteration      |\n",
      "+----+--------------------+--------------------+\n",
      "| 0  |         15         |         15         |\n",
      "| 1  | 15.754181374703954 | 15.754181374703954 |\n",
      "| 2  | 15.708008786634045 | 15.70290747691779  |\n",
      "| 3  | 15.70796326800136  | 15.708509558155328 |\n",
      "| 4  | 15.707963267948966 | 15.707904153575013 |\n",
      "| 5  | 15.707963267948966 | 15.707969663746795 |\n",
      "| 6  |                    | 15.707962575952733 |\n",
      "| 7  |                    | 15.707963342819674 |\n",
      "| 8  |                    | 15.70796325984831  |\n",
      "| 9  |                    | 15.707963268825418 |\n",
      "| 10 |                    | 15.707963267854138 |\n",
      "| 11 |                    | 15.707963267959226 |\n",
      "| 12 |                    | 15.707963267947855 |\n",
      "| 13 |                    | 15.707963267949086 |\n",
      "| 14 |                    | 15.707963267948953 |\n",
      "| 15 |                    | 15.707963267948967 |\n",
      "| 16 |                    | 15.707963267948966 |\n",
      "| 17 |                    | 15.707963267948966 |\n",
      "+----+--------------------+--------------------+\n"
     ]
    }
   ],
   "source": [
    "newton = MyNewton(MyFunction, MyDerivative, 15)\n",
    "iterator = MyIteration(MyFunction, MyDerivative, 15)\n",
    "table = pt()\n",
    "n = max(len(newton),len(iterator))\n",
    "table.add_column(\"n\", range(n))\n",
    "table.add_column(\"Newton\", newton + (n - len(newton))*[''])\n",
    "table.add_column(\"Iteration\", iterator)\n",
    "\n",
    "print(table)\n",
    "with open(\"output.txt\", \"w\") as file:\n",
    "    file.write(table.get_string())"
   ]
  },
  {
   "cell_type": "code",
   "execution_count": 16,
   "metadata": {},
   "outputs": [
    {
     "name": "stdout",
     "output_type": "stream",
     "text": [
      "+---+-------------------+---------------------+\n",
      "| n |       Newton      |      Iteration      |\n",
      "+---+-------------------+---------------------+\n",
      "| 0 |        910        | Too many iterations |\n",
      "| 1 | 906.5957235457139 |                     |\n",
      "| 2 | 908.1556368422472 |                     |\n",
      "| 3 | 907.9191934177409 |                     |\n",
      "| 4 | 907.9202768877464 |                     |\n",
      "| 5 | 907.9202768874502 |                     |\n",
      "| 6 | 907.9202768874502 |                     |\n",
      "+---+-------------------+---------------------+\n"
     ]
    }
   ],
   "source": [
    "newton = MyNewton(MyFunction, MyDerivative, 910)\n",
    "iterator = MyIteration(MyFunction, MyDerivative, 910)\n",
    "table = pt()\n",
    "n = max(len(newton),len(iterator))\n",
    "table.add_column(\"n\", range(n))\n",
    "table.add_column(\"Newton\", newton  + (n - len(newton))*[''])\n",
    "table.add_column(\"Iteration\", iterator + (n - len(iterator))*[''])\n",
    "\n",
    "print(table)\n",
    "with open(\"output.txt\", \"w\") as file:\n",
    "    file.write(table.get_string())"
   ]
  },
  {
   "cell_type": "markdown",
   "metadata": {},
   "source": [
    "## Задание 6"
   ]
  },
  {
   "cell_type": "markdown",
   "metadata": {},
   "source": [
    "Решим систему:\n",
    "\\begin{cases} \n",
    "    F \\equiv tg(xy + 1) - x^2 = 0 \\\\ \n",
    "    G \\equiv 3x^2 + 2y^2 - 1 = 0\n",
    "\\end{cases}"
   ]
  },
  {
   "cell_type": "code",
   "execution_count": 17,
   "metadata": {},
   "outputs": [],
   "source": [
    "def F(x, y):\n",
    "    return math.tan(x * y + 1) - x**2\n",
    "\n",
    "def G(x, y):\n",
    "    return 3 * x**2 + 2 * y**2 - 1\n",
    "\n",
    "def F_x(x, y):\n",
    "    return y / (math.cos(x * y + 1))**2 - 2 * x\n",
    "\n",
    "def F_y(x, y):\n",
    "    return x / (math.cos(x * y + 1))**2\n",
    "\n",
    "def G_x(x, y):\n",
    "    return 6 * x\n",
    "\n",
    "def G_y(x, y):\n",
    "    return 4 * y\n",
    "\n",
    "def J(x, y):\n",
    "    return F_x(x, y) * G_y(x, y) - F_y(x, y) * G_x(x, y)\n",
    "\n",
    "def D_x(x, y):\n",
    "    return F(x, y) * G_y(x, y) - F_y(x, y) * G(x, y)\n",
    "\n",
    "def D_y(x, y):\n",
    "    return F_x(x, y) * G(x, y) - F(x, y) * G_x(x, y)\n"
   ]
  },
  {
   "cell_type": "markdown",
   "metadata": {},
   "source": [
    "Суть метода Ньютона в том, что мы последовательно находим $\\delta x$  и  $\\delta y$ и корректируем значение нашего приближения. Сведём нашу систему нелинейных уравнений к последовательности систем линейных уравнений, и решать их будем методом Гаусса."
   ]
  },
  {
   "cell_type": "code",
   "execution_count": 18,
   "metadata": {},
   "outputs": [],
   "source": [
    "def newtons_method(x, y):\n",
    "    limit = 100\n",
    "    X = [x]\n",
    "    Y = [y]\n",
    "    for i in range(1, 100):\n",
    "        j = J(X[-1], Y[-1])\n",
    "        dx = D_x(X[-1], Y[-1]) / j\n",
    "        dy = D_y(X[-1], Y[-1]) / j\n",
    "        X.append(X[-1] + dx)\n",
    "        Y.append(Y[-1] + dy)\n",
    "        if math.sqrt(dx**2 + dy**2) < 1e-16:\n",
    "            return (X, Y)\n",
    "    \n",
    "    return (None, None)"
   ]
  },
  {
   "cell_type": "code",
   "execution_count": 19,
   "metadata": {},
   "outputs": [
    {
     "name": "stdout",
     "output_type": "stream",
     "text": [
      "None\n"
     ]
    }
   ],
   "source": [
    "(X, Y) = newtons_method(1, 1)\n",
    "if X != None:\n",
    "    table = pt()\n",
    "    table.add_column(\"n\", range(len(X)))\n",
    "    table.add_column(\"X\", X)\n",
    "    table.add_column(\"Y\", Y)\n",
    "\n",
    "    print(table)\n",
    "    with open(\"output_.txt\", \"w\") as file:\n",
    "        file.write(table.get_string())\n",
    "else:\n",
    "    print(X)"
   ]
  },
  {
   "cell_type": "markdown",
   "metadata": {},
   "source": [
    "Наша система, к сожалению, не имеет решений."
   ]
  }
 ],
 "metadata": {
  "kernelspec": {
   "display_name": "Python 3",
   "language": "python",
   "name": "python3"
  },
  "language_info": {
   "codemirror_mode": {
    "name": "ipython",
    "version": 3
   },
   "file_extension": ".py",
   "mimetype": "text/x-python",
   "name": "python",
   "nbconvert_exporter": "python",
   "pygments_lexer": "ipython3",
   "version": "3.7.5"
  }
 },
 "nbformat": 4,
 "nbformat_minor": 4
}
