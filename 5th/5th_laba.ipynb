{
 "cells": [
  {
   "cell_type": "markdown",
   "metadata": {},
   "source": [
    "# Лабораторная работа №5. Шут Артём"
   ]
  },
  {
   "cell_type": "code",
   "execution_count": 1,
   "metadata": {},
   "outputs": [],
   "source": [
    "import numpy as np\n",
    "import pandas as pd\n",
    "from numpy import linalg as la\n",
    "from matplotlib import pyplot as plt\n",
    "from prettytable import PrettyTable as pt\n",
    "from scipy.misc import derivative as deriv\n",
    "from scipy.integrate import quad"
   ]
  },
  {
   "cell_type": "markdown",
   "metadata": {},
   "source": [
    "## Задание 1."
   ]
  },
  {
   "cell_type": "code",
   "execution_count": 2,
   "metadata": {},
   "outputs": [],
   "source": [
    "def left_difference_method(func, x, n=1, dx=1e-3):\n",
    "    if n == 1:\n",
    "        return (func(x) - func(x - dx)) / dx\n",
    "    else:\n",
    "        return (left_difference_method(func, x, n - 1) - \\\n",
    "                left_difference_method(func, x - dx, n - 1)) / dx\n",
    "\n",
    "def right_difference_method(func, x, n=1, dx = 1e-3):\n",
    "    if n == 1:\n",
    "        return (func(x + dx) - func(x)) / dx\n",
    "    else:\n",
    "        return (right_difference_method(func, x + dx, n - 1) - \\\n",
    "                right_difference_method(func, x, n - 1)) / dx\n",
    "    \n",
    "def two_way_difference_method(func, x, n=1, dx=2e-3):\n",
    "    if n == 1:\n",
    "        return (func(x + dx) - func(x - dx)) / (2*dx)\n",
    "    else:\n",
    "        return (two_way_difference_method(func, x + dx, n - 1) - \\\n",
    "                two_way_difference_method(func, x - dx, n - 1)) / (2*dx)"
   ]
  },
  {
   "cell_type": "code",
   "execution_count": 3,
   "metadata": {},
   "outputs": [
    {
     "name": "stdout",
     "output_type": "stream",
     "text": [
      "+-------------+---------------------------------------+\n",
      "| field_names |                 fields                |\n",
      "+-------------+---------------------------------------+\n",
      "|     type    |            Тип производной            |\n",
      "|    right    | Ошибка метода правосторонней разности |\n",
      "|     left    |  Ошибка метода левосторонней разности |\n",
      "|     two     |  Ошибка метода двусторонней разности  |\n",
      "|    scipy    |            Результат numpy            |\n",
      "+-------------+---------------------------------------+\n",
      "\n",
      "f(x) = exp(2x)*cos(3x), x in [0, 0.3]\n",
      "+------------+------------+------------+-----------+---------------+\n",
      "|    type    |   right    |    left    |    two    |     scipy     |\n",
      "+------------+------------+------------+-----------+---------------+\n",
      "|  f'(0.25)  | 0.0097698  | 0.0097479  | 0.0000437 |   -0.9587950  |\n",
      "|  f'(0.51)  | 0.0169131  | 0.0169030  | 0.0000201 |   -8.0864524  |\n",
      "| f''(0.99)  | 0.3177247  | 0.3165610  | 0.0013301 |   20.8413436  |\n",
      "| f''(1.09)  | 0.4143042  | 0.4132452  | 0.0012106 |   57.4611176  |\n",
      "| f'''(1.89) | 10.9601714 | 10.9098437 | 0.0331890 | -1421.3981103 |\n",
      "| f'''(2.39) | 3.1990197  | 3.1663632  | 0.0645481 | -4292.7226218 |\n",
      "+------------+------------+------------+-----------+---------------+\n",
      "\n",
      "f(x) = sin(ln(x)), x in [2.0, 2.4]\n",
      "+------------+-----------+-----------+-----------+------------+\n",
      "|    type    |   right   |    left   |    two    |   scipy    |\n",
      "+------------+-----------+-----------+-----------+------------+\n",
      "|  f'(0.25)  | 0.0063672 | 0.0064262 | 0.0001180 | 0.7338279  |\n",
      "|  f'(0.51)  | 0.0003054 | 0.0003026 | 0.0000055 | 1.5328242  |\n",
      "| f''(0.99)  | 0.0009995 | 0.0009994 | 0.0000001 | -1.0099983 |\n",
      "| f''(1.09)  | 0.0009684 | 0.0009691 | 0.0000008 | -0.9110008 |\n",
      "| f'''(1.89) | 0.0008560 | 0.0005418 | 0.0001568 | 0.3834155  |\n",
      "| f'''(2.39) | 0.0002079 | 0.0004958 | 0.0001442 | 0.2151612  |\n",
      "+------------+-----------+-----------+-----------+------------+\n",
      "\n",
      "f(x) = ln(x), x in [1, 1.1]\n",
      "+------------+-----------+-----------+-----------+------------+\n",
      "|    type    |   right   |    left   |    two    |   scipy    |\n",
      "+------------+-----------+-----------+-----------+------------+\n",
      "|  f'(0.25)  | 0.0079787 | 0.0080214 | 0.0000853 | 4.0000000  |\n",
      "|  f'(0.51)  | 0.0019198 | 0.0019249 | 0.0000101 | 1.9607843  |\n",
      "| f''(0.99)  | 0.0020576 | 0.0020649 | 0.0000083 | -1.0203041 |\n",
      "| f''(1.09)  | 0.0015419 | 0.0015468 | 0.0000057 | -0.8416800 |\n",
      "| f'''(1.89) | 0.0008374 | 0.0005732 | 0.0001314 | 0.2963740  |\n",
      "| f'''(2.39) | 0.0001589 | 0.0003929 | 0.0001173 | 0.1463829  |\n",
      "+------------+-----------+-----------+-----------+------------+\n",
      "\n",
      "f(x) = cos(x) + sin(x), x in [0, 0.25]\n",
      "+------------+-----------+-----------+-----------+------------+\n",
      "|    type    |   right   |    left   |    two    |   scipy    |\n",
      "+------------+-----------+-----------+-----------+------------+\n",
      "|  f'(0.25)  | 0.0006083 | 0.0006080 | 0.0000005 | 0.7215085  |\n",
      "|  f'(0.51)  | 0.0006805 | 0.0006804 | 0.0000003 | 0.3845673  |\n",
      "| f''(0.99)  | 0.0002882 | 0.0002865 | 0.0000019 | -1.3847159 |\n",
      "| f''(1.09)  | 0.0004249 | 0.0004234 | 0.0000018 | -1.3491123 |\n",
      "| f'''(1.89) | 0.0010366 | 0.0008706 | 0.0000819 | 1.2632118  |\n",
      "| f'''(2.39) | 0.0005924 | 0.0004488 | 0.0005218 | 1.4139245  |\n",
      "+------------+-----------+-----------+-----------+------------+\n"
     ]
    }
   ],
   "source": [
    "def f_0(x):\n",
    "    return np.exp(2 * x) * np.cos(3 * x)\n",
    "def f_1(x):\n",
    "    return np.sin(np.log(x))\n",
    "def f_2(x):\n",
    "    return np.log(x)\n",
    "def f_3(x):\n",
    "    return np.sin(x) + np.cos(x)\n",
    "funcs = [f_0, f_1, f_2, f_3]\n",
    "borders = [\n",
    "    [0.0, 0.3], \n",
    "    [2.0, 2.4], \n",
    "    [1.0, 1.1], \n",
    "    [0.0, 0.25],   \n",
    "    ]\n",
    "titles = [\n",
    "    'f(x) = exp(2x)*cos(3x), x in [0, 0.3]',\n",
    "    'f(x) = sin(ln(x)), x in [2.0, 2.4]',\n",
    "    'f(x) = ln(x), x in [1, 1.1]',\n",
    "    'f(x) = cos(x) + sin(x), x in [0, 0.25]'\n",
    "]\n",
    "types = [\n",
    "    'f\\'(0.25)',\n",
    "    'f\\'(0.51)',\n",
    "    'f\\'\\'(0.99)',\n",
    "    'f\\'\\'(1.09)',\n",
    "    'f\\'\\'\\'(1.89)',\n",
    "    'f\\'\\'\\'(2.39)',\n",
    "]\n",
    "xs = [0.25, 0.51, 0.99, 1.09, 1.89, 2.39]\n",
    "ns = [1,1,2,2,3,3]\n",
    "fields = [\n",
    "        \"Тип производной\", \n",
    "        \"Ошибка метода правосторонней разности\", \n",
    "        \"Ошибка метода левосторонней разности\", \n",
    "        \"Ошибка метода двусторонней разности\", \n",
    "        \"Результат numpy\"\n",
    "    ]\n",
    "field_names = [\n",
    "        \"type\", \n",
    "        \"right\", \n",
    "        \"left\", \n",
    "        \"two\", \n",
    "        \"scipy\"\n",
    "    ]\n",
    "tables = [pt(field_names) for _ in range(4)]\n",
    "\n",
    "with_borders = False\n",
    "for f, b, t in zip(funcs, borders, tables):\n",
    "    for type, x, n in zip(types, xs, ns):\n",
    "        field = [type] \n",
    "        if with_borders and (x < b[0] or x > b[1]):\n",
    "            field += ['-' for _ in range(4)]\n",
    "        else:\n",
    "            mean = deriv(f, x, dx=1e-4, n=n, order=5)\n",
    "            field += [\n",
    "                \"%.7f\" % abs(right_difference_method(f, x, n) - mean),\n",
    "                \"%.7f\" % abs(left_difference_method(f, x, n) - mean),\n",
    "                \"%.7f\" % abs(two_way_difference_method(f, x, n) - mean),\n",
    "                \"%.7f\" % mean\n",
    "            ]\n",
    "        t.add_row(field)\n",
    "        \n",
    "t = pt(['field_names','fields'])\n",
    "for f,fn in zip(field_names, fields):\n",
    "    t.add_row([f, fn])\n",
    "print(t)\n",
    "            \n",
    "for i,t,title in zip(range(4),tables, titles):\n",
    "    print('')\n",
    "    print(title)\n",
    "    print(t)"
   ]
  },
  {
   "cell_type": "markdown",
   "metadata": {},
   "source": [
    "## Задание 2."
   ]
  },
  {
   "cell_type": "markdown",
   "metadata": {},
   "source": [
    "### Классы для работы со сплайнами и МНК"
   ]
  },
  {
   "cell_type": "code",
   "execution_count": 4,
   "metadata": {},
   "outputs": [
    {
     "data": {
      "image/png": "[encoded data removed]",
      "text/plain": [
       "<Figure size 432x288 with 1 Axes>"
      ]
     },
     "metadata": {
      "needs_background": "light"
     },
     "output_type": "display_data"
    }
   ],
   "source": [
    "class Spline:    \n",
    "    def init(self, xs, ys):        \n",
    "        n = len(xs)\n",
    "        h = np.diff(xs)\n",
    "        df = np.diff(ys)\n",
    "        A = np.zeros((n, n))\n",
    "        B = np.zeros((n, ))\n",
    "        A[0, 0] = 1\n",
    "        A[n-1, n-1] = 1\n",
    "        for i in range(1, n-1):\n",
    "            A[i, i - 1] = h[i-1]\n",
    "            A[i][i] = 2 * (h[i-1] + h[i])\n",
    "            A[i, i + 1] = h[i]\n",
    "            B[i] = 3 * (df[i] / h[i] - df[i - 1] / h[i - 1])\n",
    "        c = np.linalg.solve(A, B)\n",
    "        d = np.zeros((n - 1,))\n",
    "        b = np.zeros((n - 1,))\n",
    "        for i in range(0, len(d)):\n",
    "            d[i] = (c[i + 1] - c[i]) / (3 * h[i])\n",
    "            b[i] = (df[i] / h[i]) - (h[i] / 3) * (2 * c[i] + c[i + 1])\n",
    "        self._xs = xs.copy()\n",
    "        self._ys = ys.copy()\n",
    "        self._b = b\n",
    "        self._c = c\n",
    "        self._d = d\n",
    "        \n",
    "    def func(self, x):            \n",
    "        for i in range(0, len(self._xs) - 1):\n",
    "            if x <= self._xs[i+1]:\n",
    "                break                \n",
    "                     \n",
    "        return self._ys[i] + self._b[i]*(x - self._xs[i]) + \\\n",
    "                self._c[i]*(x - self._xs[i])**2 + \\\n",
    "                self._d[i]*(x - self._xs[i])**3\n",
    "\n",
    "class MNK:    \n",
    "    k = 5\n",
    "    def init(self, xs, ys):        \n",
    "        n = len(xs)        \n",
    "        Y = np.array(ys)\n",
    "        X = np.ones((n, self.k))\n",
    "        for i in range(n):\n",
    "            for j in range(self.k):\n",
    "                X[i][j] = xs[i]**j\n",
    "        \n",
    "        A = np.dot(X.transpose(), X)\n",
    "        Y = np.dot(X.transpose(), Y)\n",
    "        self.a = np.linalg.solve(A, Y)\n",
    "        \n",
    "    def func(self, x):\n",
    "        return sum([self.a[i] * x**i for i in range(self.k)])\n",
    "    \n",
    "spline = Spline()\n",
    "mnk = MNK()\n",
    "\n",
    "data = pd.read_excel(\"cases.xls\")\n",
    "data = np.array(data)\n",
    "cases = np.array([d[0] for d in data])\n",
    "\n",
    "days = np.array(range(len(cases)))\n",
    "cases = np.array(cases)[::7]\n",
    "weeks = days[::7]\n",
    "plt.plot(weeks, cases,'ro')\n",
    "\n",
    "x = np.linspace(days[0], days[-1], 100)\n",
    "spline.init(weeks, cases)\n",
    "mnk.init(weeks, cases)\n",
    "\n",
    "y_spline = [spline.func(i) for i in x]\n",
    "y_mnk = [mnk.func(i) for i in x]\n",
    "\n",
    "plt.plot(x, y_spline, '--', x, y_mnk, '-')\n",
    "plt.grid(True) \n",
    "\n",
    "plt.show()"
   ]
  },
  {
   "cell_type": "markdown",
   "metadata": {},
   "source": [
    "### Рассмотрим методы трапеции и средней точки"
   ]
  },
  {
   "cell_type": "code",
   "execution_count": 5,
   "metadata": {},
   "outputs": [],
   "source": [
    "def trapezoidal(func, a, b, n=1000):\n",
    "    xs = np.linspace(a, b, n + 1)\n",
    "    ys = [func(x) for x in xs]\n",
    "    return (b - a) * sum(ys[1:] + ys[:-1]) / (2 * n)\n",
    "\n",
    "def mid_point(func, a, b, n=1000):\n",
    "    h = (b - a) / n\n",
    "    x = a + h/2       \n",
    "    return sum([func(x + i*h)*h for i in range(n)])"
   ]
  },
  {
   "cell_type": "code",
   "execution_count": 6,
   "metadata": {},
   "outputs": [],
   "source": [
    "def print_table(func, a, b):\n",
    "    table = pt(['Интеграл', 'Значение интеграла', 'Ошибка'])\n",
    "    scipy_res, err = quad(func, a, b)\n",
    "    trap_res = trapezoidal(func, a, b, 1000)\n",
    "    mid_p_res = mid_point(func, a, b, 1000)\n",
    "    table.add_row(['Scipy', scipy_res, '-'])\n",
    "    table.add_row(['Трапеции', trap_res, abs(trap_res-scipy_res)/scipy_res])\n",
    "    table.add_row(['Средней точки', mid_p_res, abs(mid_p_res-scipy_res)/scipy_res ])\n",
    "    print(table)\n",
    "    \n",
    "a, b = days[0], days[-1]"
   ]
  },
  {
   "cell_type": "code",
   "execution_count": 7,
   "metadata": {},
   "outputs": [
    {
     "name": "stdout",
     "output_type": "stream",
     "text": [
      "\t\t\tSpline\n",
      "+---------------+--------------------+------------------------+\n",
      "|    Интеграл   | Значение интеграла |         Ошибка         |\n",
      "+---------------+--------------------+------------------------+\n",
      "|     Scipy     | 4588090.394979787  |           -            |\n",
      "|    Трапеции   | 4588090.566471912  | 3.7377669170449707e-08 |\n",
      "| Средней точки | 4588090.339047482  | 1.2190759119111663e-08 |\n",
      "+---------------+--------------------+------------------------+\n"
     ]
    }
   ],
   "source": [
    "print('\\t\\t\\tSpline')\n",
    "print_table(spline.func, a, b)"
   ]
  },
  {
   "cell_type": "code",
   "execution_count": 8,
   "metadata": {},
   "outputs": [
    {
     "name": "stdout",
     "output_type": "stream",
     "text": [
      "\t\t\tMNK\n",
      "+---------------+--------------------+------------------------+\n",
      "|    Интеграл   | Значение интеграла |         Ошибка         |\n",
      "+---------------+--------------------+------------------------+\n",
      "|     Scipy     | 4560611.8564830655 |           -            |\n",
      "|    Трапеции   | 4560611.337846525  | 1.1372082449255155e-07 |\n",
      "| Средней точки | 4560612.115801162  | 5.686037416110965e-08  |\n",
      "+---------------+--------------------+------------------------+\n"
     ]
    }
   ],
   "source": [
    "print('\\t\\t\\tMNK')\n",
    "print_table(mnk.func, a, b)"
   ]
  },
  {
   "cell_type": "markdown",
   "metadata": {},
   "source": [
    "#### Вывод: \n",
    "Оба метода имеют кубическую сходимость, однако метод трапеций чаще даёт более точный результат, так как верхняя оценка его остаточного члена $ f'(\\xi)\\frac{(b-a)^3}{12} $, тогда когда у метода премоугольников $ f'(\\xi)\\frac{(b-a)^3}{24} $"
   ]
  }
 ],
 "metadata": {
  "kernelspec": {
   "display_name": "Python 3",
   "language": "python",
   "name": "python3"
  },
  "language_info": {
   "codemirror_mode": {
    "name": "ipython",
    "version": 3
   },
   "file_extension": ".py",
   "mimetype": "text/x-python",
   "name": "python",
   "nbconvert_exporter": "python",
   "pygments_lexer": "ipython3",
   "version": "3.7.5"
  }
 },
 "nbformat": 4,
 "nbformat_minor": 4
}
